{
 "cells": [
  {
   "cell_type": "code",
   "execution_count": 1,
   "id": "a6191f18",
   "metadata": {},
   "outputs": [],
   "source": [
    "import re"
   ]
  },
  {
   "cell_type": "code",
   "execution_count": 2,
   "id": "5b71430b",
   "metadata": {},
   "outputs": [
    {
     "data": {
      "text/plain": [
       "['[11:05 pm, 05/08/2022] iQo: Iqbal Ahmed AI-46214 03453113993 iq.ahmed91@gmail.com\\n',\n",
       " '[11:12 pm, 05/08/2022] Muhammad Saad AI: Muhammad Saad: AI46190 03043184681: sm.saad50@gmail.com\\n',\n",
       " '[11:12 pm, 05/08/2022] Shahzad IBT: Shahzad Ahmed : AI-46165 - 03002303175 - shaze.ahmed@gmail.com\\n',\n",
       " '[11:12 pm, 05/08/2022] +92 315 2935701: name: Sami rollno:AI- 40483 email: samikhan2872@gmail.com mobile-no:03152935701\\n',\n",
       " '[11:13 pm, 05/08/2022] +92 334 2995610: Talha Mehfooz, AI-40211 email: khurshaiditm47@gmail.com , mobile: 03342995610\\n',\n",
       " '[11:13 pm, 05/08/2022] +92 335 3271054: Muhammad Mohsin: AI-53993\\n',\n",
       " 'Email: mohsinsheikh0700@gmail.com\\n',\n",
       " 'No: 03353271054\\n',\n",
       " '[11:13 pm, 05/08/2022] +92 345 2541450: Hidayat ur Rehman : AI-6546 email: abc@gmail.com\\n',\n",
       " '[11:13 pm, 05/08/2022] +92 316 2688657: Muhammad Faizan: AI 40939\\n',\n",
       " 'faizanwaseem476@gmail.com\\n',\n",
       " '[11:13 pm, 05/08/2022] +92 344 2226632: Name: Saad Ahmed\\n',\n",
       " 'RollNo: AI-47242\\n',\n",
       " 'Email: hello.saad96@gmail.com\\n',\n",
       " '[11:13 pm, 05/08/2022] +92 313 1145255: Gulzar :\\n',\n",
       " 'AI-20145\\n',\n",
       " 'Email:hafizgulzar.alm1996@gmail.com\\n',\n",
       " 'Mobile no. 03131134244\\n',\n",
       " '[11:13 pm, 05/08/2022] +92 323 2900066: Abdul Rasheed AI-40154\\n',\n",
       " 'email: abdulrasheed2511gmail.com\\n',\n",
       " '[11:14 pm, 05/08/2022] +92 315 3727169: Muhammad Zeeshan : AI-400250 \\n',\n",
       " 'Email: abc@gmail.com\\n',\n",
       " 'Mobile no: 03153727169\\n',\n",
       " '[11:14 pm, 05/08/2022] +92 342 3392795: Ahmed saleem :AI-44378\\n',\n",
       " 'Email: ahmedsaleem2122@gmail.com\\n',\n",
       " 'Mobile no:0342-3392795\\n',\n",
       " '[11:14 pm, 05/08/2022] M. Ali Nasir CR AI: Name : Ali Nasir \\n',\n",
       " 'Roll No: 44365 \\n',\n",
       " 'NIC: 42101-9864676-7 \\n',\n",
       " 'Email: malinasir1997@gmail.com \\n',\n",
       " 'Mobile No: 0331-2147373\\n',\n",
       " '[11:14 pm, 05/08/2022] +92 333 3120597: Name : Hamza Ahmed Ansari Roll number : AI-40591 Email : ibneshakeel2000@gmail.com Mobile number : 03333120597\\n',\n",
       " '[11:14 pm, 05/08/2022] +92 316 1448439: name: Zubair\\n',\n",
       " 'roll no: AI- 40200 \\n',\n",
       " 'email: zubairrasheed0316@gmail.com \\n',\n",
       " 'mobile-no: 03161448439\\n',\n",
       " '[11:14 pm, 05/08/2022] +92 315 2185186: Name: Irfan Roll Number: AI-45055 email: irfanmuhammadk786@gmail.com Mobile Number: 03152185186\\n',\n",
       " '[11:15 pm, 05/08/2022] +92 312 2093412: Basharat Ali :AI-46716\\n',\n",
       " 'Email: basharatfarhad24@gmail.com\\n',\n",
       " 'Mobile no:03122093412\\n',\n",
       " '[11:15 pm, 05/08/2022] +92 344 1802958: Name: Muhammad usama\\n',\n",
       " 'Roll no : AI-43985\\n',\n",
       " 'Mobile no : 03441802958\\n',\n",
       " 'Email : usamakh315@gmail.com\\n',\n",
       " '[11:15 pm, 05/08/2022] +92 312 8525358: Faraz uddin : AI-44226- 03128525358 - asbausmuhammad92@gmail.com\\n',\n",
       " '[11:15 pm, 05/08/2022] +92 334 3523966: Name: Syed Muhammad Mooazam , Roll No: AI-40222 , Mobile Number: +923343523966\\n',\n",
       " '[11:15 pm, 05/08/2022] +92 324 2824117: Name : Abdul Sami  Roll number : AI-40352 Email : abdulsamiarain82@gmail.com Mobile number : 03242824117\\n',\n",
       " '[11:16 pm, 05/08/2022] +92 312 2296999: Umair Taqi : AI-46155 - 03122296999 - umairtaqi48@gmail.com\\n',\n",
       " '[11:16 pm, 05/08/2022] +92 323 2553599: Name: Atiq Raza\\n',\n",
       " 'ID : AI-42612\\n',\n",
       " 'Email : razaatiq05@gmail.com\\n',\n",
       " 'Mobile No: 03232553599\\n',\n",
       " '[11:16 pm, 05/08/2022] +92 334 0378290: Ahsan Uddin\\n',\n",
       " 'AI-43505\\n',\n",
       " '0334-0378290\\n',\n",
       " '[11:16 pm, 05/08/2022] M. FURQAN CR AI: Name: Muhammad Furqan\\n',\n",
       " 'Roll no:AI-40277\\n',\n",
       " 'Email: furqansawati@gmail.com\\n',\n",
       " 'Mobile no:03120004695\\n',\n",
       " '[11:17 pm, 05/08/2022] +92 306 2462926: Name: Syed Salman Ali , Roll No: AI-40969 , Mobile Number: +923062462926\\n',\n",
       " '[11:17 pm, 05/08/2022] +92 309 2655755: Name: Syed Muhammad Daniyal Azam\\n',\n",
       " 'Roll number: AI-47456\\n',\n",
       " 'Num: 03092655755\\n',\n",
       " 'Email : daniyalazam19@gmail.com\\n',\n",
       " '[11:17 pm, 05/08/2022] +92 302 8289423: Mehmood AI-41824 03028289423 mahmoodsuleman@hotmail.com']"
      ]
     },
     "execution_count": 2,
     "metadata": {},
     "output_type": "execute_result"
    }
   ],
   "source": [
    "file = open(\"./wchat.txt\")\n",
    "data = file.readlines()\n",
    "data"
   ]
  },
  {
   "cell_type": "code",
   "execution_count": 3,
   "id": "44ec4ee2",
   "metadata": {},
   "outputs": [
    {
     "data": {
      "text/plain": [
       "'[11:12 pm, 05/08/2022] +92 315 2935701: name: Sami rollno:AI- 40483 email: samikhan2872@gmail.com mobile-no:03152935701\\n'"
      ]
     },
     "execution_count": 3,
     "metadata": {},
     "output_type": "execute_result"
    }
   ],
   "source": [
    "s = data[3]\n",
    "s"
   ]
  },
  {
   "cell_type": "code",
   "execution_count": 4,
   "id": "a27ff9ff",
   "metadata": {},
   "outputs": [
    {
     "data": {
      "text/plain": [
       "['AI- 40483']"
      ]
     },
     "execution_count": 4,
     "metadata": {},
     "output_type": "execute_result"
    }
   ],
   "source": [
    "re.findall(\"AI- [0-9]*\",data[3])"
   ]
  },
  {
   "cell_type": "code",
   "execution_count": 5,
   "id": "3a70921c",
   "metadata": {},
   "outputs": [
    {
     "data": {
      "text/plain": [
       "'[11:12 pm, 05/08/2022] Muhammad Saad AI-: Muhammad Saad: AI-46190 03043184681: sm.saad50@gmail.com\\n'"
      ]
     },
     "execution_count": 5,
     "metadata": {},
     "output_type": "execute_result"
    }
   ],
   "source": [
    "data[1].replace(\"- \",\"-\").replace(\"AI\",\"AI-\")"
   ]
  },
  {
   "cell_type": "code",
   "execution_count": 6,
   "id": "09f66610",
   "metadata": {},
   "outputs": [],
   "source": [
    "#     s = data[i].replace(\"- \",\"\")\n",
    "#     print(s)"
   ]
  },
  {
   "cell_type": "code",
   "execution_count": 14,
   "id": "b9c5d7fc",
   "metadata": {
    "scrolled": true
   },
   "outputs": [
    {
     "name": "stdout",
     "output_type": "stream",
     "text": [
      "[['AI-46214'], ['AI', 'AI46190'], ['AI-46165'], ['AI-'], ['AI-40211'], ['AI-53993'], [], [], ['AI-6546'], ['AI'], [], [], ['AI-47242'], [], [], ['AI-20145'], [], [], ['AI-40154'], [], ['AI-400250'], [], [], ['AI-44378'], [], [], ['AI'], [], [], [], [], ['AI-40591'], [], ['AI-'], [], [], ['AI-45055'], ['AI-46716'], [], [], [], ['AI-43985'], [], [], ['AI-44226-'], ['AI-40222'], ['AI-40352'], ['AI-46155'], [], ['AI-42612'], [], [], [], ['AI-43505'], [], ['AI'], ['AI-40277'], [], [], ['AI-40969'], [], ['AI-47456'], [], [], ['AI-41824']]\n"
     ]
    }
   ],
   "source": [
    "roll_no = []\n",
    "for i,v in enumerate(data):\n",
    "    rep = re.findall(\"AI[-0-9]*\",data[i])\n",
    "    roll_no.append(rep)\n",
    "print(roll_no)"
   ]
  },
  {
   "cell_type": "code",
   "execution_count": 209,
   "id": "6d03f628",
   "metadata": {},
   "outputs": [
    {
     "data": {
      "text/plain": [
       "'[11:13 pm, 05/08/2022] +92 335 3271054: Muhammad Mohsin: AI-53993\\n'"
      ]
     },
     "execution_count": 209,
     "metadata": {},
     "output_type": "execute_result"
    }
   ],
   "source": [
    "data[5]"
   ]
  },
  {
   "cell_type": "code",
   "execution_count": 9,
   "id": "dd0b4b93",
   "metadata": {},
   "outputs": [
    {
     "data": {
      "text/plain": [
       "[]"
      ]
     },
     "execution_count": 9,
     "metadata": {},
     "output_type": "execute_result"
    }
   ],
   "source": [
    "re.findall(\"[A-z0-9@-]*.com\",data[5])"
   ]
  },
  {
   "cell_type": "code",
   "execution_count": 10,
   "id": "68e42e0c",
   "metadata": {},
   "outputs": [
    {
     "name": "stdout",
     "output_type": "stream",
     "text": [
      "['iq.ahmed91@gmail.com']\n",
      "['sm.saad50@gmail.com']\n",
      "['shaze.ahmed@gmail.com']\n",
      "['samikhan2872@gmail.com']\n",
      "['khurshaiditm47@gmail.com']\n",
      "[]\n",
      "['mohsinsheikh0700@gmail.com']\n",
      "[]\n",
      "['abc@gmail.com']\n",
      "[]\n",
      "['faizanwaseem476@gmail.com']\n",
      "[]\n",
      "[]\n",
      "['hello.saad96@gmail.com']\n",
      "[]\n",
      "[]\n",
      "['hafizgulzar.alm1996@gmail.com']\n",
      "[]\n",
      "[]\n",
      "['abdulrasheed2511gmail.com']\n",
      "[]\n",
      "['abc@gmail.com']\n",
      "[]\n",
      "[]\n",
      "['ahmedsaleem2122@gmail.com']\n",
      "[]\n",
      "[]\n",
      "[]\n",
      "[]\n",
      "['malinasir1997@gmail.com']\n",
      "[]\n",
      "['ibneshakeel2000@gmail.com']\n",
      "[]\n",
      "[]\n",
      "['zubairrasheed0316@gmail.com']\n",
      "[]\n",
      "['irfanmuhammadk786@gmail.com']\n",
      "[]\n",
      "['basharatfarhad24@gmail.com']\n",
      "[]\n",
      "[]\n",
      "[]\n",
      "[]\n",
      "['usamakh315@gmail.com']\n",
      "['asbausmuhammad92@gmail.com']\n",
      "[]\n",
      "['abdulsamiarain82@gmail.com']\n",
      "['umairtaqi48@gmail.com']\n",
      "[]\n",
      "[]\n",
      "['razaatiq05@gmail.com']\n",
      "[]\n",
      "[]\n",
      "[]\n",
      "[]\n",
      "[]\n",
      "[]\n",
      "['furqansawati@gmail.com']\n",
      "[]\n",
      "[]\n",
      "[]\n",
      "[]\n",
      "[]\n",
      "['daniyalazam19@gmail.com']\n",
      "['mahmoodsuleman@hotmail.com']\n"
     ]
    }
   ],
   "source": [
    "# email = []\n",
    "for i,v in enumerate(data):\n",
    "    rep = re.findall(\"[._A-z0-9@-]*.com\",data[i])\n",
    "    print(rep)\n",
    "#     email.append(rep)\n",
    "# print(email)"
   ]
  },
  {
   "cell_type": "code",
   "execution_count": 15,
   "id": "cb800ed8",
   "metadata": {},
   "outputs": [
    {
     "data": {
      "text/plain": [
       "['[11:05 pm, 05/08/2022] iQo: Iqbal Ahmed AI-46214 03453113993 iq.ahmed91@gmail.com\\n',\n",
       " '[11:12 pm, 05/08/2022] Muhammad Saad AI: Muhammad Saad: AI46190 03043184681: sm.saad50@gmail.com\\n',\n",
       " '[11:12 pm, 05/08/2022] Shahzad IBT: Shahzad Ahmed : AI-46165 - 03002303175 - shaze.ahmed@gmail.com\\n',\n",
       " '[11:12 pm, 05/08/2022] +92 315 2935701: name: Sami rollno:AI- 40483 email: samikhan2872@gmail.com mobile-no:03152935701\\n',\n",
       " '[11:13 pm, 05/08/2022] +92 334 2995610: Talha Mehfooz, AI-40211 email: khurshaiditm47@gmail.com , mobile: 03342995610\\n',\n",
       " '[11:13 pm, 05/08/2022] +92 335 3271054: Muhammad Mohsin: AI-53993\\n',\n",
       " 'Email: mohsinsheikh0700@gmail.com\\n',\n",
       " 'No: 03353271054\\n',\n",
       " '[11:13 pm, 05/08/2022] +92 345 2541450: Hidayat ur Rehman : AI-6546 email: abc@gmail.com\\n',\n",
       " '[11:13 pm, 05/08/2022] +92 316 2688657: Muhammad Faizan: AI 40939\\n',\n",
       " 'faizanwaseem476@gmail.com\\n',\n",
       " '[11:13 pm, 05/08/2022] +92 344 2226632: Name: Saad Ahmed\\n',\n",
       " 'RollNo: AI-47242\\n',\n",
       " 'Email: hello.saad96@gmail.com\\n',\n",
       " '[11:13 pm, 05/08/2022] +92 313 1145255: Gulzar :\\n',\n",
       " 'AI-20145\\n',\n",
       " 'Email:hafizgulzar.alm1996@gmail.com\\n',\n",
       " 'Mobile no. 03131134244\\n',\n",
       " '[11:13 pm, 05/08/2022] +92 323 2900066: Abdul Rasheed AI-40154\\n',\n",
       " 'email: abdulrasheed2511gmail.com\\n',\n",
       " '[11:14 pm, 05/08/2022] +92 315 3727169: Muhammad Zeeshan : AI-400250 \\n',\n",
       " 'Email: abc@gmail.com\\n',\n",
       " 'Mobile no: 03153727169\\n',\n",
       " '[11:14 pm, 05/08/2022] +92 342 3392795: Ahmed saleem :AI-44378\\n',\n",
       " 'Email: ahmedsaleem2122@gmail.com\\n',\n",
       " 'Mobile no:0342-3392795\\n',\n",
       " '[11:14 pm, 05/08/2022] M. Ali Nasir CR AI: Name : Ali Nasir \\n',\n",
       " 'Roll No: 44365 \\n',\n",
       " 'NIC: 42101-9864676-7 \\n',\n",
       " 'Email: malinasir1997@gmail.com \\n',\n",
       " 'Mobile No: 0331-2147373\\n',\n",
       " '[11:14 pm, 05/08/2022] +92 333 3120597: Name : Hamza Ahmed Ansari Roll number : AI-40591 Email : ibneshakeel2000@gmail.com Mobile number : 03333120597\\n',\n",
       " '[11:14 pm, 05/08/2022] +92 316 1448439: name: Zubair\\n',\n",
       " 'roll no: AI- 40200 \\n',\n",
       " 'email: zubairrasheed0316@gmail.com \\n',\n",
       " 'mobile-no: 03161448439\\n',\n",
       " '[11:14 pm, 05/08/2022] +92 315 2185186: Name: Irfan Roll Number: AI-45055 email: irfanmuhammadk786@gmail.com Mobile Number: 03152185186\\n',\n",
       " '[11:15 pm, 05/08/2022] +92 312 2093412: Basharat Ali :AI-46716\\n',\n",
       " 'Email: basharatfarhad24@gmail.com\\n',\n",
       " 'Mobile no:03122093412\\n',\n",
       " '[11:15 pm, 05/08/2022] +92 344 1802958: Name: Muhammad usama\\n',\n",
       " 'Roll no : AI-43985\\n',\n",
       " 'Mobile no : 03441802958\\n',\n",
       " 'Email : usamakh315@gmail.com\\n',\n",
       " '[11:15 pm, 05/08/2022] +92 312 8525358: Faraz uddin : AI-44226- 03128525358 - asbausmuhammad92@gmail.com\\n',\n",
       " '[11:15 pm, 05/08/2022] +92 334 3523966: Name: Syed Muhammad Mooazam , Roll No: AI-40222 , Mobile Number: +923343523966\\n',\n",
       " '[11:15 pm, 05/08/2022] +92 324 2824117: Name : Abdul Sami  Roll number : AI-40352 Email : abdulsamiarain82@gmail.com Mobile number : 03242824117\\n',\n",
       " '[11:16 pm, 05/08/2022] +92 312 2296999: Umair Taqi : AI-46155 - 03122296999 - umairtaqi48@gmail.com\\n',\n",
       " '[11:16 pm, 05/08/2022] +92 323 2553599: Name: Atiq Raza\\n',\n",
       " 'ID : AI-42612\\n',\n",
       " 'Email : razaatiq05@gmail.com\\n',\n",
       " 'Mobile No: 03232553599\\n',\n",
       " '[11:16 pm, 05/08/2022] +92 334 0378290: Ahsan Uddin\\n',\n",
       " 'AI-43505\\n',\n",
       " '0334-0378290\\n',\n",
       " '[11:16 pm, 05/08/2022] M. FURQAN CR AI: Name: Muhammad Furqan\\n',\n",
       " 'Roll no:AI-40277\\n',\n",
       " 'Email: furqansawati@gmail.com\\n',\n",
       " 'Mobile no:03120004695\\n',\n",
       " '[11:17 pm, 05/08/2022] +92 306 2462926: Name: Syed Salman Ali , Roll No: AI-40969 , Mobile Number: +923062462926\\n',\n",
       " '[11:17 pm, 05/08/2022] +92 309 2655755: Name: Syed Muhammad Daniyal Azam\\n',\n",
       " 'Roll number: AI-47456\\n',\n",
       " 'Num: 03092655755\\n',\n",
       " 'Email : daniyalazam19@gmail.com\\n',\n",
       " '[11:17 pm, 05/08/2022] +92 302 8289423: Mehmood AI-41824 03028289423 mahmoodsuleman@hotmail.com']"
      ]
     },
     "execution_count": 15,
     "metadata": {},
     "output_type": "execute_result"
    }
   ],
   "source": [
    "data"
   ]
  },
  {
   "cell_type": "code",
   "execution_count": 208,
   "id": "dd623f69",
   "metadata": {},
   "outputs": [
    {
     "data": {
      "text/plain": [
       "'Email: mohsinsheikh0700@gmail.com\\n'"
      ]
     },
     "execution_count": 208,
     "metadata": {},
     "output_type": "execute_result"
    }
   ],
   "source": [
    "data[6]"
   ]
  },
  {
   "cell_type": "code",
   "execution_count": 396,
   "id": "1ae8ce58",
   "metadata": {
    "scrolled": true
   },
   "outputs": [
    {
     "name": "stdout",
     "output_type": "stream",
     "text": [
      "['03453113993']\n",
      "['03043184681']\n",
      "['03002303175']\n",
      "['+92 315 2935701', '03152935701']\n",
      "['+92 334 2995610', '03342995610']\n",
      "['+92 335 3271054']\n",
      "[]\n",
      "['03353271054']\n",
      "['+92 345 2541450']\n",
      "['+92 316 2688657']\n",
      "[]\n",
      "['+92 344 2226632']\n",
      "[]\n",
      "[]\n",
      "['+92 313 1145255']\n",
      "[]\n",
      "[]\n",
      "['03131134244']\n",
      "['+92 323 2900066']\n",
      "[]\n",
      "['+92 315 3727169']\n",
      "[]\n",
      "['03153727169']\n",
      "['+92 342 3392795']\n",
      "[]\n",
      "['0342']\n",
      "[]\n",
      "[]\n",
      "[]\n",
      "[]\n",
      "['0331']\n",
      "['+92 333 3120597', '03333120597']\n",
      "['+92 316 1448439']\n",
      "[]\n",
      "[]\n",
      "['03161448439']\n",
      "['+92 315 2185186', '03152185186']\n",
      "['+92 312 2093412']\n",
      "[]\n",
      "['03122093412']\n",
      "['+92 344 1802958']\n",
      "[]\n",
      "['03441802958']\n",
      "[]\n",
      "['+92 312 8525358', '03128525358']\n",
      "['+92 334 3523966']\n",
      "['+92 324 2824117', '03242824117']\n",
      "['+92 312 2296999', '03122296999']\n",
      "['+92 323 2553599']\n",
      "[]\n",
      "[]\n",
      "['03232553599']\n",
      "['+92 334 0378290']\n",
      "[]\n",
      "['0334', '0378290']\n",
      "[]\n",
      "[]\n",
      "[]\n",
      "['03120004695']\n",
      "['+92 306 2462926']\n",
      "['+92 309 2655755']\n",
      "[]\n",
      "['03092655755']\n",
      "[]\n",
      "['+92 302 8289423', '03028289423']\n"
     ]
    }
   ],
   "source": [
    "mobile_no = r\"\\b03\\d*|\\+\\w*\\s\\d*\\s\\d*\"\n",
    "for i,v in enumerate(data):\n",
    "#     d = data[i]\n",
    "#     r = d.replace(\" \",\"\").replace(\"0\",\"+92\")\n",
    "#     print(r)\n",
    "    \n",
    "    get_no = re.findall(mobile_no,data[i])\n",
    "    print(get_no)"
   ]
  },
  {
   "cell_type": "code",
   "execution_count": 313,
   "id": "5a8acaf4",
   "metadata": {},
   "outputs": [
    {
     "data": {
      "text/plain": [
       "'Email: hello.saad96@gmail.com\\n'"
      ]
     },
     "execution_count": 313,
     "metadata": {},
     "output_type": "execute_result"
    }
   ],
   "source": [
    "data[13]"
   ]
  },
  {
   "cell_type": "code",
   "execution_count": 271,
   "id": "27ee638d",
   "metadata": {},
   "outputs": [
    {
     "data": {
      "text/plain": [
       "['Muhammad Saad', 'Muhammad Saad']"
      ]
     },
     "execution_count": 271,
     "metadata": {},
     "output_type": "execute_result"
    }
   ],
   "source": [
    "re.findall(r\"[A-z]\\w+\\s[A-z]\\w+\",data[1])"
   ]
  },
  {
   "cell_type": "code",
   "execution_count": 357,
   "id": "ab3f3521",
   "metadata": {},
   "outputs": [
    {
     "data": {
      "text/plain": [
       "'[11:12 pm, 05/08/2022] Muhammad Saad AI: Muhammad Saad: AI46190 03043184681: sm.saad50@gmail.com\\n'"
      ]
     },
     "execution_count": 357,
     "metadata": {},
     "output_type": "execute_result"
    }
   ],
   "source": [
    "data[1]"
   ]
  },
  {
   "cell_type": "code",
   "execution_count": 366,
   "id": "8f0cd51c",
   "metadata": {
    "scrolled": true
   },
   "outputs": [
    {
     "data": {
      "text/plain": [
       "['Sami rollno', 'com mobile']"
      ]
     },
     "execution_count": 366,
     "metadata": {},
     "output_type": "execute_result"
    }
   ],
   "source": [
    "re.findall(r\"[a-z0-9.@]*com\\b\",data[1])\n",
    "re.findall(r\"\\b03\\d*|\\+\\d*\\s\\d*\\s\\d*\",data[3])\n",
    "re.findall(r\"[A-z]\\w+\\s[A-z]\\w+\",data[3])"
   ]
  },
  {
   "cell_type": "code",
   "execution_count": 385,
   "id": "2cc357d6",
   "metadata": {},
   "outputs": [
    {
     "data": {
      "text/plain": [
       "['11:12 pm']"
      ]
     },
     "execution_count": 385,
     "metadata": {},
     "output_type": "execute_result"
    }
   ],
   "source": [
    "re.findall(r\"\\d{2}:\\d{2}\\s[ampm]*\",data[2])"
   ]
  },
  {
   "cell_type": "code",
   "execution_count": 389,
   "id": "306270a8",
   "metadata": {},
   "outputs": [
    {
     "name": "stdout",
     "output_type": "stream",
     "text": [
      "['11:05 pm']\n",
      "['11:12 pm']\n",
      "['11:12 pm']\n",
      "['11:12 pm']\n",
      "['11:13 pm']\n",
      "['11:13 pm']\n",
      "[]\n",
      "[]\n",
      "['11:13 pm']\n",
      "['11:13 pm']\n",
      "[]\n",
      "['11:13 pm']\n",
      "[]\n",
      "[]\n",
      "['11:13 pm']\n",
      "[]\n",
      "[]\n",
      "[]\n",
      "['11:13 pm']\n",
      "[]\n",
      "['11:14 pm']\n",
      "[]\n",
      "[]\n",
      "['11:14 pm']\n",
      "[]\n",
      "[]\n",
      "['11:14 pm']\n",
      "[]\n",
      "[]\n",
      "[]\n",
      "[]\n",
      "['11:14 pm']\n",
      "['11:14 pm']\n",
      "[]\n",
      "[]\n",
      "[]\n",
      "['11:14 pm']\n",
      "['11:15 pm']\n",
      "[]\n",
      "[]\n",
      "['11:15 pm']\n",
      "[]\n",
      "[]\n",
      "[]\n",
      "['11:15 pm']\n",
      "['11:15 pm']\n",
      "['11:15 pm']\n",
      "['11:16 pm']\n",
      "['11:16 pm']\n",
      "[]\n",
      "[]\n",
      "[]\n",
      "['11:16 pm']\n",
      "[]\n",
      "[]\n",
      "['11:16 pm']\n",
      "[]\n",
      "[]\n",
      "[]\n",
      "['11:17 pm']\n",
      "['11:17 pm']\n",
      "[]\n",
      "[]\n",
      "[]\n",
      "['11:17 pm']\n"
     ]
    }
   ],
   "source": [
    "for i,v in enumerate(data):\n",
    "    getting_date = re.findall(r\"\\d{2}:\\d{2}\\s[ampm]*\",data[i])\n",
    "    print(getting_date)"
   ]
  }
 ],
 "metadata": {
  "kernelspec": {
   "display_name": "Python 3 (ipykernel)",
   "language": "python",
   "name": "python3"
  },
  "language_info": {
   "codemirror_mode": {
    "name": "ipython",
    "version": 3
   },
   "file_extension": ".py",
   "mimetype": "text/x-python",
   "name": "python",
   "nbconvert_exporter": "python",
   "pygments_lexer": "ipython3",
   "version": "3.9.12"
  }
 },
 "nbformat": 4,
 "nbformat_minor": 5
}
